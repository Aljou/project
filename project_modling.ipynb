{
  "cells": [
    {
      "cell_type": "markdown",
      "id": "26965e06",
      "metadata": {
        "id": "26965e06"
      },
      "source": [
        "# MEASUREMENT OF VISCOSITY OF LIQUIDS BY THE STOKE'S METHOD\n",
        "![175px-Stokes_sphere.svg.png](attachment:175px-Stokes_sphere.svg.png)"
      ]
    },
    {
      "cell_type": "markdown",
      "id": "f07dd8b9",
      "metadata": {
        "id": "f07dd8b9"
      },
      "source": [
        "# OBJECTIVES "
      ]
    },
    {
      "cell_type": "markdown",
      "id": "ff88527d",
      "metadata": {
        "id": "ff88527d"
      },
      "source": [
        "To determine the coefficient of viscosity of a given viscous liquid using the Stokes method."
      ]
    },
    {
      "cell_type": "markdown",
      "id": "314b0b0a",
      "metadata": {
        "id": "314b0b0a"
      },
      "source": [
        "# EQUIPMENT"
      ]
    },
    {
      "cell_type": "markdown",
      "id": "75f5caa1",
      "metadata": {
        "id": "75f5caa1"
      },
      "source": [
        "1- steel spheres with different diameters."
      ]
    },
    {
      "cell_type": "markdown",
      "id": "3f48aa77",
      "metadata": {
        "id": "3f48aa77"
      },
      "source": [
        "2- A graduated tube filled with glycerin liquid."
      ]
    },
    {
      "cell_type": "markdown",
      "id": "0aa71f26",
      "metadata": {
        "id": "0aa71f26"
      },
      "source": [
        "3- Stop-watch."
      ]
    },
    {
      "cell_type": "markdown",
      "id": "93887b4a",
      "metadata": {
        "id": "93887b4a"
      },
      "source": [
        "4- Micrometer."
      ]
    },
    {
      "cell_type": "markdown",
      "id": "3e8927eb",
      "metadata": {
        "id": "3e8927eb"
      },
      "source": [
        "5- Vernier calipers."
      ]
    },
    {
      "cell_type": "markdown",
      "id": "5bc70e69",
      "metadata": {
        "id": "5bc70e69"
      },
      "source": [
        "6- Meter ruler.\n",
        "![303C6DC1-17ED-4B9B-9B6E-12A39989D554.JPEG](attachment:303C6DC1-17ED-4B9B-9B6E-12A39989D554.JPEG)"
      ]
    },
    {
      "cell_type": "markdown",
      "id": "88c6aab2",
      "metadata": {
        "id": "88c6aab2"
      },
      "source": [
        "# Data and data analysis"
      ]
    },
    {
      "cell_type": "code",
      "execution_count": null,
      "id": "47f4e54e",
      "metadata": {
        "id": "47f4e54e",
        "outputId": "5d5a82ba-85f9-490c-8b07-aa1c375ac76e"
      },
      "outputs": [
        {
          "data": {
            "text/html": [
              "<div>\n",
              "<style scoped>\n",
              "    .dataframe tbody tr th:only-of-type {\n",
              "        vertical-align: middle;\n",
              "    }\n",
              "\n",
              "    .dataframe tbody tr th {\n",
              "        vertical-align: top;\n",
              "    }\n",
              "\n",
              "    .dataframe thead th {\n",
              "        text-align: right;\n",
              "    }\n",
              "</style>\n",
              "<table border=\"1\" class=\"dataframe\">\n",
              "  <thead>\n",
              "    <tr style=\"text-align: right;\">\n",
              "      <th></th>\n",
              "      <th>r(m)</th>\n",
              "      <th>square_r</th>\n",
              "      <th>t1 (s)</th>\n",
              "      <th>t2 (s)</th>\n",
              "      <th>t3 (s)</th>\n",
              "      <th>t-avg (s)</th>\n",
              "      <th>Vt</th>\n",
              "    </tr>\n",
              "  </thead>\n",
              "  <tbody>\n",
              "    <tr>\n",
              "      <th>0</th>\n",
              "      <td>0.00273</td>\n",
              "      <td>0.000007</td>\n",
              "      <td>2.63</td>\n",
              "      <td>2.72</td>\n",
              "      <td>2.50</td>\n",
              "      <td>2.61</td>\n",
              "      <td>0.07</td>\n",
              "    </tr>\n",
              "    <tr>\n",
              "      <th>1</th>\n",
              "      <td>0.00222</td>\n",
              "      <td>0.000005</td>\n",
              "      <td>3.62</td>\n",
              "      <td>3.31</td>\n",
              "      <td>3.47</td>\n",
              "      <td>3.46</td>\n",
              "      <td>0.05</td>\n",
              "    </tr>\n",
              "    <tr>\n",
              "      <th>2</th>\n",
              "      <td>0.00150</td>\n",
              "      <td>0.000002</td>\n",
              "      <td>8.81</td>\n",
              "      <td>7.54</td>\n",
              "      <td>8.37</td>\n",
              "      <td>8.24</td>\n",
              "      <td>0.02</td>\n",
              "    </tr>\n",
              "  </tbody>\n",
              "</table>\n",
              "</div>"
            ],
            "text/plain": [
              "      r(m)  square_r  t1 (s)  t2 (s)  t3 (s)  t-avg (s)    Vt\n",
              "0  0.00273  0.000007    2.63    2.72    2.50       2.61  0.07\n",
              "1  0.00222  0.000005    3.62    3.31    3.47       3.46  0.05\n",
              "2  0.00150  0.000002    8.81    7.54    8.37       8.24  0.02"
            ]
          },
          "execution_count": 2,
          "metadata": {},
          "output_type": "execute_result"
        }
      ],
      "source": [
        "import pandas as pd\n",
        "\n",
        "data = { 'r(m)':[2.73*10**-3 , 2.22*10**-3 , 1.5*10**-3],\n",
        "        'square_r':[7.4*10**-6 , 4.9*10**-6 , 2.2*10**-6],\n",
        "        't1 (s)':[2.63 , 3.62 , 8.81],\n",
        "        't2 (s)' :[2.72 , 3.31 , 7.54],\n",
        "        't3 (s)': [2.5 , 3.47 , 8.37],\n",
        "        't-avg (s)':[2.61 , 3.46 , 8.24],\n",
        "        'Vt':[0.07 , 0.05 , 0.02]}\n",
        "\n",
        "data_frame = pd.DataFrame(data)\n",
        "\n",
        "data_frame"
      ]
    },
    {
      "cell_type": "markdown",
      "id": "2b6a93e5",
      "metadata": {
        "id": "2b6a93e5"
      },
      "source": [
        "# The graph "
      ]
    },
    {
      "cell_type": "code",
      "execution_count": null,
      "id": "bba933af",
      "metadata": {
        "id": "bba933af",
        "outputId": "004c47c3-e936-4f2b-c989-9dd3aebef48d"
      },
      "outputs": [
        {
          "data": {
            "image/png": "[encoded data removed]",
            "text/plain": [
              "<Figure size 432x288 with 1 Axes>"
            ]
          },
          "metadata": {
            "needs_background": "light"
          },
          "output_type": "display_data"
        }
      ],
      "source": [
        "import numpy as np\n",
        "import matplotlib.pyplot as plt\n",
        "\n",
        "x = data_frame.square_r\n",
        "y = data_frame.Vt\n",
        "m,b=np.polyfit(x,y,1)\n",
        "\n",
        "plt.plot(x,y,'o', color = 'red')\n",
        "plt.plot(x,m*x+b)\n",
        "plt.xlabel('r^2(m^2)')\n",
        "plt.ylabel('Vt (m/s)')\n",
        "plt.title('The Relationship Between Vt and r^2 ',fontsize = 22)\n",
        "\n",
        "plt.text(3e-6,0.06,r'$slope=9615.38$',fontsize=20)\n",
        "\n",
        "plt.show()"
      ]
    },
    {
      "cell_type": "markdown",
      "id": "456a7c97",
      "metadata": {
        "id": "456a7c97"
      },
      "source": [
        "# The slope "
      ]
    },
    {
      "cell_type": "code",
      "execution_count": null,
      "id": "42c77b4f",
      "metadata": {
        "id": "42c77b4f",
        "outputId": "e6d9373c-75ac-4c06-a8ec-bbd07d7dc02e"
      },
      "outputs": [
        {
          "name": "stdout",
          "output_type": "stream",
          "text": [
            "The slope = 9615.38\n"
          ]
        }
      ],
      "source": [
        "#y2-y1/x2-x1\n",
        "import math\n",
        "y2=0.07\n",
        "y1=0.02\n",
        "x2=7.4*10**-6\n",
        "x1=2.2*10**-6\n",
        "slope=(y2-y1)/(x2-x1)\n",
        "print(\"The slope =\",round(slope,2))"
      ]
    },
    {
      "cell_type": "markdown",
      "id": "06f6173d",
      "metadata": {
        "id": "06f6173d"
      },
      "source": [
        "# The precentage error "
      ]
    },
    {
      "cell_type": "code",
      "execution_count": null,
      "id": "52a4c8ed",
      "metadata": {
        "id": "52a4c8ed",
        "outputId": "fb24317f-9e88-4b79-8692-26d3473419c7"
      },
      "outputs": [
        {
          "name": "stdout",
          "output_type": "stream",
          "text": [
            "the precentage error= 36.84 %\n"
          ]
        }
      ],
      "source": [
        "PE=abs((1.3-0.950)/(0.950))*100\n",
        "print(\"the precentage error=\",round(PE,2),\"%\")\n"
      ]
    },
    {
      "cell_type": "markdown",
      "id": "79da2752",
      "metadata": {
        "id": "79da2752"
      },
      "source": [
        "# What is the relation of the slope to η?"
      ]
    },
    {
      "cell_type": "code",
      "execution_count": null,
      "id": "652a05ec",
      "metadata": {
        "id": "652a05ec",
        "outputId": "9fac46d3-7d12-482c-e92e-6c88fd536597"
      },
      "outputs": [
        {
          "name": "stdout",
          "output_type": "stream",
          "text": [
            "the relation of the slope to η= 1.36 pa.s\n"
          ]
        }
      ],
      "source": [
        "#nexp=2/9(ps-pl)g.1/slope\n",
        "g=9.8\n",
        "slope=9615.38\n",
        "pspl=6000\n",
        "η=(2/9)*(pspl)*(g*1/slope)\n",
        "print(\"the relation of the slope to η=\",round(η,2),\"pa.s\")"
      ]
    },
    {
      "cell_type": "code",
      "execution_count": null,
      "id": "fa3e0125",
      "metadata": {
        "id": "fa3e0125"
      },
      "outputs": [],
      "source": [
        ""
      ]
    },
    {
      "cell_type": "markdown",
      "id": "4d8e4202",
      "metadata": {
        "id": "4d8e4202"
      },
      "source": [
        "# Video explaining the experience"
      ]
    },
    {
      "cell_type": "code",
      "execution_count": null,
      "id": "14fb4e6b",
      "metadata": {
        "id": "14fb4e6b",
        "outputId": "320775fc-a30f-49b4-8fca-43f34d19c300"
      },
      "outputs": [
        {
          "ename": "ModuleNotFoundError",
          "evalue": "No module named 'qrcode'",
          "output_type": "error",
          "traceback": [
            "\u001b[1;31m---------------------------------------------------------------------------\u001b[0m",
            "\u001b[1;31mModuleNotFoundError\u001b[0m                       Traceback (most recent call last)",
            "\u001b[1;32m<ipython-input-45-32b0e754ffd5>\u001b[0m in \u001b[0;36m<module>\u001b[1;34m\u001b[0m\n\u001b[1;32m----> 1\u001b[1;33m \u001b[1;32mimport\u001b[0m \u001b[0mqrcode\u001b[0m\u001b[1;33m\u001b[0m\u001b[1;33m\u001b[0m\u001b[0m\n\u001b[0m\u001b[0;32m      2\u001b[0m \u001b[1;32mimport\u001b[0m \u001b[0mmatplotlib\u001b[0m\u001b[1;33m.\u001b[0m\u001b[0mpyplot\u001b[0m \u001b[1;32mas\u001b[0m \u001b[0mplt\u001b[0m\u001b[1;33m\u001b[0m\u001b[1;33m\u001b[0m\u001b[0m\n\u001b[0;32m      3\u001b[0m \u001b[0mdata\u001b[0m\u001b[1;33m=\u001b[0m\u001b[1;34m'https://youtu.be/mQwlmXtRu5k'\u001b[0m\u001b[1;33m\u001b[0m\u001b[1;33m\u001b[0m\u001b[0m\n\u001b[0;32m      4\u001b[0m \u001b[0mfilename\u001b[0m\u001b[1;33m=\u001b[0m\u001b[1;34m'OUR_QR_CODE.png'\u001b[0m\u001b[1;33m\u001b[0m\u001b[1;33m\u001b[0m\u001b[0m\n\u001b[0;32m      5\u001b[0m \u001b[0mimage\u001b[0m \u001b[1;33m=\u001b[0m\u001b[0mqrcode\u001b[0m\u001b[1;33m.\u001b[0m\u001b[0mmake\u001b[0m\u001b[1;33m(\u001b[0m\u001b[0mdata\u001b[0m\u001b[1;33m)\u001b[0m\u001b[1;33m\u001b[0m\u001b[1;33m\u001b[0m\u001b[0m\n",
            "\u001b[1;31mModuleNotFoundError\u001b[0m: No module named 'qrcode'"
          ]
        }
      ],
      "source": [
        "#It must be installed on the device\n",
        "\n",
        "import qrcode\n",
        "import matplotlib.pyplot as plt\n",
        "data='https://youtu.be/mQwlmXtRu5k'\n",
        "filename='OUR_QR_CODE.png'\n",
        "image =qrcode.make(data)\n",
        "image.save(filename)\n",
        "plt.imshow(image,cmap='gray')"
      ]
    },
    {
      "cell_type": "markdown",
      "id": "c416213a",
      "metadata": {
        "id": "c416213a"
      },
      "source": [
        "# Q)vectors\n",
        "If A=i+2j-5k  and B=-4j+3k   and C=12i+3k\n",
        "Evaluate (a- Mathematically   b- Numerically (Using ‘numpy”)):\n",
        " the total work done by forces B and C if the object undergoes the displacement A\n",
        "Write your output in a propriate way"
      ]
    },
    {
      "cell_type": "code",
      "execution_count": null,
      "id": "78bff07d",
      "metadata": {
        "id": "78bff07d",
        "outputId": "36d219a6-44a9-42ad-ac46-e33878747c97"
      },
      "outputs": [
        {
          "name": "stdout",
          "output_type": "stream",
          "text": [
            "A = 1i+2j+-5k\n",
            "B = 0i+-4j+3k\n",
            "C = 12i+0j+3k\n",
            "total force B+C = 12i-4j+6k\n",
            "displacement = 1i+2j-5k\n",
            "the formula to find the work= F.d\n",
            "the total work done = -26 j\n"
          ]
        }
      ],
      "source": [
        "import numpy as np\n",
        "A=np.array([1,2,-5])\n",
        "print ('A = {}i+{}j+{}k'. format(*A))\n",
        "B=np.array([0,-4,3])\n",
        "print ('B = {}i+{}j+{}k'. format(*B))\n",
        "C=np.array([12,0,3])\n",
        "print ('C = {}i+{}j+{}k'. format(*C))\n",
        "F=B+C\n",
        "print ('total force B+C = {}i{}j+{}k'. format(*F))\n",
        "\n",
        "d=A\n",
        "print ('displacement = {}i+{}j{}k'. format(*d))\n",
        "W=np.dot(F,d)\n",
        "print(\"the formula to find the work= F.d\")\n",
        "print(\"the total work done =\",W,\"j\")"
      ]
    },
    {
      "cell_type": "code",
      "execution_count": null,
      "id": "dc395540",
      "metadata": {
        "id": "dc395540"
      },
      "outputs": [],
      "source": [
        ""
      ]
    }
  ],
  "metadata": {
    "kernelspec": {
      "display_name": "Python 3",
      "language": "python",
      "name": "python3"
    },
    "language_info": {
      "codemirror_mode": {
        "name": "ipython",
        "version": 3
      },
      "file_extension": ".py",
      "mimetype": "text/x-python",
      "name": "python",
      "nbconvert_exporter": "python",
      "pygments_lexer": "ipython3",
      "version": "3.8.8"
    },
    "colab": {
      "name": "project modling.ipynb",
      "provenance": []
    }
  },
  "nbformat": 4,
  "nbformat_minor": 5
}